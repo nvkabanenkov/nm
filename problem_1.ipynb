{
 "cells": [
  {
   "cell_type": "markdown",
   "metadata": {},
   "source": [
    "### Задача 1.\n",
    "#### Двумерное уравнение теплопроводности с излучением на границах.\n",
    "\n",
    "Рассмотрим процесс теплопереноса в пластине, на двух границах которой осуществляется теплообмен с внешней средой за счет излучения и конвекции.\n",
    "\n",
    "Размеры пластины $L=H=0.3$м, материал - твердая резина ($\\lambda = 0.16$ Вт/(м$\\cdot$С), $\\rho = 1190$ кг/м^3, $c = 1900$ Дж/(кг$\\cdot$С)).\n",
    "\n",
    "Начальная температура области решения $T_0 = 30$ C, $\\kappa_1 = 50$ Вт/(м^2 $\\cdot$ С), $T^{e1} = 20$ C, $\\varepsilon = 0.8$, $\\kappa_2 = 35$ Вт/(м^2 $\\cdot$ С), $T^{e2} = 35$ C.\n",
    "\n",
    "Математическая модель:\n",
    "\n",
    "$$\\rho c \\frac{\\partial T}{\\partial t} = \\lambda (\\frac{\\partial^2 T}{\\partial x^2} + \\frac{\\partial^2 T}{\\partial y^2})$$\n",
    "\n",
    "где $0 < x < L$, $0 < y < H$.\n",
    "\n",
    "Начальные и граничные условия:\n",
    "\n",
    "$t = 0$: $T = T_0, 0 \\leqslant x \\leqslant L$, $0 \\leqslant y \\leqslant H$,\n",
    "\n",
    "$x = 0$: $-\\lambda \\frac{\\partial T}{\\partial x} = \\kappa_1 (T^{e1} - T) + \\varepsilon \\sigma ((T^{e1})^4 - T^4)$, $t > 0$, $\\kappa_1 > 0$,\n",
    "\n",
    "$x = L$: $\\frac{\\partial T}{\\partial x} = 0$, $t > 0$,\n",
    "\n",
    "$y = 0$: $\\frac{\\partial T}{\\partial y} = 0$, $t > 0$,\n",
    "\n",
    "$y = H$: $\\lambda \\frac{\\partial T}{\\partial y} = \\kappa_2 (T^{e2} - T) + \\varepsilon \\sigma ((T^{e2})^4 - T^4)$, $t > 0$, $\\kappa_2 > 0$."
   ]
  },
  {
   "cell_type": "code",
   "execution_count": 1,
   "metadata": {},
   "outputs": [],
   "source": [
    "L = H = 0.3\n",
    "Lambda = 0.16\n",
    "rho = 1190\n",
    "c = 1900\n",
    "T_0 = 30\n",
    "kappa_1 = 50\n",
    "T_e1 = 20\n",
    "epsilon = 0.8\n",
    "epsilon_1 = 0.00001\n",
    "kappa_2 = 35\n",
    "T_e2 = 35\n",
    "sigma = 5.669e-8"
   ]
  },
  {
   "cell_type": "code",
   "execution_count": 2,
   "metadata": {},
   "outputs": [],
   "source": [
    "N_x = 100\n",
    "N_y = 100\n",
    "t_end = 36000"
   ]
  },
  {
   "cell_type": "markdown",
   "metadata": {},
   "source": [
    "Определяем расчетные шаги сетки по пространственным координатам"
   ]
  },
  {
   "cell_type": "code",
   "execution_count": 3,
   "metadata": {},
   "outputs": [],
   "source": [
    "h_x = L/(N_x - 1)\n",
    "h_y = H/(N_y - 1)"
   ]
  },
  {
   "cell_type": "markdown",
   "metadata": {},
   "source": [
    "Определяем расчетный шаг сетки по времени"
   ]
  },
  {
   "cell_type": "code",
   "execution_count": 4,
   "metadata": {},
   "outputs": [],
   "source": [
    "tau = t_end/1000"
   ]
  },
  {
   "cell_type": "markdown",
   "metadata": {},
   "source": [
    "Поле температуры в начальный момент времени"
   ]
  },
  {
   "cell_type": "code",
   "execution_count": 5,
   "metadata": {},
   "outputs": [],
   "source": [
    "T = [[T_0] * (N_y+1)] * (N_x+1)\n",
    "T_n = [[0] * (N_y+1)] * (N_x+1)\n",
    "\n",
    "alpha = [0] * (max(N_x, N_y) + 1)\n",
    "beta = [0] * (max(N_x, N_y) + 1)"
   ]
  },
  {
   "cell_type": "code",
   "execution_count": 6,
   "metadata": {},
   "outputs": [],
   "source": [
    "time = 0\n",
    "\n",
    "while time < t_end:\n",
    "    time += tau\n",
    "    \n",
    "    for i in range(1, N_x+1):\n",
    "        for j in range(1, N_y+1):\n",
    "            T_n[i][j] = T[i][j]\n",
    "            \n",
    "    for j in range(1, N_y+1):\n",
    "        alpha[1] = 2 * tau * Lambda / (2 * tau * (Lambda * kappa_1 * h_x) + rho * c * h_x**2)\n",
    "\n",
    "        while True:\n",
    "            d = T[1][j]\n",
    "            beta[1] = (rho * c * h_x**2 * T_n[1][j] + 2 * tau * kappa_1 * h_x * T_e1 + 2 * tau * epsilon_1 * sigma * h_x * (T_e1**4 - d**4))/(2 * tau * (Lambda + kappa_1 * h_x) + rho * c * h_x**2)\n",
    "            \n",
    "            for i in range(2, N_x):\n",
    "                a_i = Lambda/h_x**2\n",
    "                b_i = 2 * Lambda/h_x**2 + rho*c/tau\n",
    "                c_i = Lambda/h_x**2\n",
    "                f_i = -rho*c*T_n[i][j]/tau\n",
    "                alpha[i] = a_i/(b_i - c_i*alpha[i-1])\n",
    "                beta[i] = (c_i*beta[i-1]-f_i)/(b_i-c_i*alpha[i-1])\n",
    "        \n",
    "            T[N_x][j] = (rho*c*h_x**2 * T_n[N_x][j] + 2*tau*Lambda*beta[N_x-1])/(rho*c*h_x**2 + 2*tau*Lambda*(1 - alpha[N_x-1]))\n",
    "            \n",
    "            for i in range(N_x-1, 0, -1):\n",
    "                T[i][j] = alpha[i]*T[i+1][j] + beta[i]\n",
    "                \n",
    "            if abs(d - T[1][j]) <= epsilon:\n",
    "                break\n",
    "                \n",
    "    for i in range(1, N_x+1):\n",
    "        alpha[1] = 2 * tau * Lambda / (2 * tau * Lambda + rho * c * h_y**2)\n",
    "        beta[1] = rho * c * h_y**2 * T[i][1] / (2 * tau * Lambda + rho * c * h_y**2)\n",
    "        \n",
    "        for j in range(2, N_y):\n",
    "            a_i = Lambda/h_y**2\n",
    "            b_i = 2 * Lambda/h_y**2 + rho*c/tau\n",
    "            c_i = Lambda/h_y**2\n",
    "            f_i = -rho*c*T[i][j]/tau\n",
    "            alpha[j] = a_i/(b_i - c_i*alpha[j-1])\n",
    "            beta[j] = (c_i * beta[j-1] - f_i)/(b_i - c_i * alpha[j-1])\n",
    "            \n",
    "        d = T[i][N_y]\n",
    "        \n",
    "        while True:\n",
    "            d_1 = T[i][N_y]\n",
    "            T[i][N_y] = (rho*c*h_y**2 * d + 2 * tau * (Lambda * beta[N_y-1] + kappa_2 * h_y * T_e2 + epsilon_1 * sigma * h_y*(T_e2**4 -d_1**4)))/(rho * c * h_y**2 + 2 * tau * (Lambda * (1-alpha[N_y-1])+kappa_2*h_y))\n",
    "            \n",
    "            if abs(d_1 - T[i][N_y]) <= epsilon:\n",
    "                break\n",
    "                \n",
    "        for j in range(N_y-1, 0, -1):\n",
    "                T[i][j] = alpha[j]*T[i][j+1] + beta[j]\n"
   ]
  },
  {
   "cell_type": "code",
   "execution_count": 7,
   "metadata": {},
   "outputs": [
    {
     "data": {
      "image/png": "[encoded data removed]",
      "text/plain": [
       "<Figure size 432x288 with 1 Axes>"
      ]
     },
     "metadata": {
      "needs_background": "light"
     },
     "output_type": "display_data"
    }
   ],
   "source": [
    "import numpy as np\n",
    "import matplotlib.pyplot as plt\n",
    "import matplotlib.cm as cm\n",
    "%matplotlib inline\n",
    "\n",
    "T_ = T[1:]\n",
    "T_ = list(map(lambda l: l[1:], T_))\n",
    "\n",
    "plt.imshow(np.array(T_),interpolation='nearest', cmap='hot')\n",
    "plt.title('Температурная карта пластины в момент времени t = ' + str(t_end))\n",
    "plt.show()"
   ]
  }
 ],
 "metadata": {
  "kernelspec": {
   "display_name": "Python 3",
   "language": "python",
   "name": "python3"
  },
  "language_info": {
   "codemirror_mode": {
    "name": "ipython",
    "version": 3
   },
   "file_extension": ".py",
   "mimetype": "text/x-python",
   "name": "python",
   "nbconvert_exporter": "python",
   "pygments_lexer": "ipython3",
   "version": "3.7.6"
  }
 },
 "nbformat": 4,
 "nbformat_minor": 4
}
